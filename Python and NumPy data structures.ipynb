{
 "cells": [
  {
   "cell_type": "markdown",
   "metadata": {},
   "source": [
    "# Python and NumPy data structures"
   ]
  },
  {
   "cell_type": "markdown",
   "metadata": {},
   "source": [
    "### Read in the document 'Restaurant.txt' to a Python notebook and create a dictionary with a count of every word. What are the three most frequently occuring words?"
   ]
  },
  {
   "cell_type": "code",
   "execution_count": 69,
   "metadata": {},
   "outputs": [
    {
     "name": "stdout",
     "output_type": "stream",
     "text": [
      "{'the': 6, 'regular': 1, 'early': 1, 'morning': 1, 'yell': 1, 'of': 3, 'horror': 1, 'was': 6, 'sound': 1, 'arthur': 1, 'dent': 1, 'waking': 1, 'up': 1, 'and': 3, 'suddenly': 1, 'remembering': 1, 'where': 1, 'he': 1, 'it': 4, \"wasn't\": 3, 'just': 2, 'that': 3, 'cave': 2, 'cold,': 1, 'damp': 1, 'smelly': 1, 'fact': 1, 'in': 1, 'middle': 1, 'islington': 1, 'there': 1, 'a': 1, 'bus': 1, 'due': 1, 'for': 1, 'two': 1, 'million': 1, 'years': 1}\n"
     ]
    }
   ],
   "source": [
    "t = open('Restaurant.txt','r', encoding=\"ISO-8859-1\")\n",
    "txt = t.read()\n",
    "\n",
    "dictionary = {}\n",
    "keys = txt.lower().replace('.', '').split()\n",
    "\n",
    "for w in keys:\n",
    "    dictionary[w] = keys.count(w)\n",
    "\n",
    "print(dictionary)"
   ]
  },
  {
   "cell_type": "markdown",
   "metadata": {},
   "source": [
    "Three most frequently occuring words:\n",
    "\n",
    "> **'the'** <br>\n",
    "> **'was'**<br>\n",
    "> **'it'**<br>"
   ]
  },
  {
   "cell_type": "markdown",
   "metadata": {},
   "source": [
    "### Generating a numpy array of standard normal random numbers with 10000 rows and a 100 columns. Then computing a numpy array with the column averages. "
   ]
  },
  {
   "cell_type": "code",
   "execution_count": 1,
   "metadata": {},
   "outputs": [],
   "source": [
    "import numpy as np\n",
    "import numpy.random as r\n",
    "array = np.array(r.randn(10000, 100))\n",
    "arrayavgs = array.mean(axis=0)"
   ]
  },
  {
   "cell_type": "markdown",
   "metadata": {},
   "source": [
    "### How many of these values are greater than 0.1?"
   ]
  },
  {
   "cell_type": "code",
   "execution_count": 2,
   "metadata": {},
   "outputs": [
    {
     "name": "stdout",
     "output_type": "stream",
     "text": [
      "0\n"
     ]
    }
   ],
   "source": [
    "print(sum(arrayavgs>=0.1))"
   ]
  }
 ],
 "metadata": {
  "kernelspec": {
   "display_name": "Python 3",
   "language": "python",
   "name": "python3"
  },
  "language_info": {
   "codemirror_mode": {
    "name": "ipython",
    "version": 3
   },
   "file_extension": ".py",
   "mimetype": "text/x-python",
   "name": "python",
   "nbconvert_exporter": "python",
   "pygments_lexer": "ipython3",
   "version": "3.9.0"
  }
 },
 "nbformat": 4,
 "nbformat_minor": 2
}
